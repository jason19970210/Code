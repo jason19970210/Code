{
 "cells": [
  {
   "cell_type": "code",
   "execution_count": 3,
   "metadata": {},
   "outputs": [
    {
     "name": "stdout",
     "output_type": "stream",
     "text": [
      "<!DOCTYPE html><html data-region=\"TW\"><head><meta charset=\"utf-8\"><meta name=\"mobile-web-app-capable\" content=\"no\"><meta name=\"viewport\" content=\"width=device-width,initial-scale=1.0001,maximum-scale=1.0001\"><meta name=\"description\" content=\"17 直播零距離交友互動、17Video 多元精彩節目。各式特色直播主分享生活每一刻；17Video，多元節目內容免費線上看；17Q，每日兩場益智遊戲、答題送現金！歡迎你來玩遊戲、看直播！\"/><title>17 直播 - 華人最佳直播社交 App</title><meta property=\"og:type\" content=\"website\"/><meta property=\"og:locale:alternate\" content=\"en_US\"/><meta property=\"og:locale:alternate\" content=\"zh_TW\"/><meta property=\"og:locale:alternate\" content=\"zh_CN\"/><meta property=\"og:locale:alternate\" content=\"id_ID\"/><meta property=\"og:locale:alternate\" content=\"ja_JP\"/><meta property=\"og:locale:alternate\" content=\"ko_KR\"/><meta property=\"og:image\" content=\"https://storage.googleapis.com/media17-prod-web-assets/17live-share.png\"/><meta property=\"og:image:type\" content=\"image/png\"/><meta name=\"twitter:image\" content=\"https://storage.googleapis.com/media17-prod-web-assets/17live-share.png\"/><meta name=\"twitter:card\" content=\"summary_large_image\"/><meta name=\"twitter:site\" content=\"@17LiveJP\"/><meta name=\"twitter:title\" content=\"17 直播 - 華人最佳直播社交 App\"><meta name=\"twitter:description\" content=\"17 直播零距離交友互動、17Video 多元精彩節目。各式特色直播主分享生活每一刻；17Video，多元節目內容免費線上看；17Q，每日兩場益智遊戲、答題送現金！歡迎你來玩遊戲、看直播！\"><meta property=\"fb:app_id\" content=\"898257960220808\"/><meta property=\"al:ios:app_name\" content=\"17 - Your Life's Moments\"/><meta property=\"al:ios:app_store_id\" content=\"988259048\"/><meta property=\"al:ios:url\" content=\"media17://\"/><meta name=\"apple-itunes-app\" content=\"app-id=988259048\"/><meta property=\"al:android:app_name\" content=\"17 - Your Life's Moments\"/><meta property=\"al:android:package\" content=\"com.machipopo.media17\"/><meta property=\"al:android:url\" content=\"media17://open\"/><meta property=\"al:web:should_fallback\" content=\"false\"/><script src=\"https://cdn.polyfill.io/v2/polyfill.min.js?flags=gated&unknown=polyfill&features=Promise,fetch,Map,Set,Object.assign,Object.values,Array.from,Array.prototype.includes,Array.prototype.find,Array.prototype.findIndex,String.prototype.startsWith,String.prototype.endsWith,String.prototype.repeat,String.fromCodePoint,IntersectionObserver,URL,Intl.~locale.en\" defer=\"defer\"></script><link rel=\"shortcut icon\" href=\"/assets/favicon.ico\"><link rel=\"preload\" href=\"/assets/vendors~main.deb0d8ebf5c2dd9baaf7.chunk.js\" as=\"script\"/><link rel=\"preload\" href=\"/assets/main.77caa571b448de31c76b.chunk.js\" as=\"script\"/><link rel=\"preload\" href=\"/assets/Army~MainContent~Nav~UserInfo.dd97912b14d4f8b5c582.chunk.js\" as=\"script\"/><link rel=\"prefetch\" href=\"/assets/ForgotPasswordModal~LoginModal~RegisterModal~ResetPasswordModal.a27b524b289a4cc9f058.chunk.js\" as=\"script\"/><link rel=\"preload\" href=\"/assets/AsideTVList~Nav~TV~UserInfo.c23ffb10b07af229f712.chunk.js\" as=\"script\"/><link rel=\"preload\" href=\"/assets/FloatingVideo~LiveStreamPreview~TVWall.2348a10b3eaa9aff7a54.chunk.js\" as=\"script\"/><link rel=\"preload\" href=\"/assets/DriveFollowBox~FollowButton17~MainContent.a0d728d5bda31cfc3cee.chunk.js\" as=\"script\"/><link rel=\"prefetch\" href=\"/assets/vendors~DriveFollowBox~Poke.15cc3d47d1ad27c624eb.chunk.js\" as=\"script\"/><link rel=\"preload\" href=\"/assets/vendors~MainContent~UserInfo.f31869bbf2483ff712b9.chunk.js\" as=\"script\"/><link rel=\"preload\" href=\"/assets/MainContent~Modal.6308a780493a593991e0.chunk.js\" as=\"script\"/><link rel=\"prefetch\" href=\"/assets/Army~Search.b4f2bf34d14208a5311b.chunk.js\" as=\"script\"/><link rel=\"prefetch\" href=\"/assets/Gift~Poke.174104e4d0bb6af23c8f.chunk.js\" as=\"script\"/><link rel=\"preload\" href=\"/assets/Nav~Purchase.02aee76a74da25d84dd1.chunk.js\" as=\"script\"/><link rel=\"prefetch\" href=\"/assets/Footer~MaintenancePage.3f1d72f18c3401208d63.chunk.js\" as=\"script\"/><link rel=\"prefetch\" href=\"/assets/BaggageMission~Gift.d1b394981c33ede30def.chunk.js\" as=\"script\"/><link rel=\"prefetch\" href=\"/assets/GA-plugins.413af9443c8ad8273d8f.chunk.js\" as=\"script\"/><link rel=\"preload\" href=\"/assets/Nav.b38a0bae1eeb135e73a9.chunk.js\" as=\"script\"/><link rel=\"preload\" href=\"/assets/FloatingVideo.b8d92bb5d171e6355fb8.chunk.js\" as=\"script\"/><link rel=\"preload\" href=\"/assets/MainContent.1e0a05ba374fc406c653.chunk.js\" as=\"script\"/><link rel=\"prefetch\" href=\"/assets/Footer.1c973944a8d476a7390c.chunk.js\" as=\"script\"/><link rel=\"prefetch\" href=\"/assets/Search.65f0daea1feeac44908e.chunk.js\" as=\"script\"/><link rel=\"prefetch\" href=\"/assets/LiveBadge.a7f4acc591628019b987.chunk.js\" as=\"script\"/><link rel=\"prefetch\" href=\"/assets/Like.e1ae52a210fe88d3c527.chunk.js\" as=\"script\"/><link rel=\"prefetch\" href=\"/assets/FollowButton17.517283f998cbb4c11f5b.chunk.js\" as=\"script\"/><link rel=\"prefetch\" href=\"/assets/LiveScores.62e32a780d82812f8905.chunk.js\" as=\"script\"/><link rel=\"prefetch\" href=\"/assets/Gift.69f1c9199a6ca3862060.chunk.js\" as=\"script\"/><link rel=\"prefetch\" href=\"/assets/Poke.e046df146439400f9932.chunk.js\" as=\"script\"/><link rel=\"prefetch\" href=\"/assets/EventPanel.120e6cfbcebe729f3f45.chunk.js\" as=\"script\"/><link rel=\"prefetch\" href=\"/assets/Purchase.f5d2a4c0f680499d4761.chunk.js\" as=\"script\"/><link rel=\"prefetch\" href=\"/assets/AsideLive.a44c4663c4667913a3a0.chunk.js\" as=\"script\"/><link rel=\"prefetch\" href=\"/assets/Event.d758bd6a7f3f76304835.chunk.js\" as=\"script\"/><link rel=\"prefetch\" href=\"/assets/LoginModal.c2c23a1d586e8203e52e.chunk.js\" as=\"script\"/><link rel=\"preload\" href=\"/assets/FLV.73056440b91aa370663e.chunk.js\" as=\"script\"/><link rel=\"preload\" href=\"/assets/vendors~FLV.ffc9f2ad279221ab3740.chunk.js\" as=\"script\"/><link rel=\"prefetch\" href=\"/assets/vendors~Army.cf8c48aa99c980e012aa.chunk.js\" as=\"script\"/><link rel=\"prefetch\" href=\"/assets/vendors~GA-plugins.5297ff9e1d26184da181.chunk.js\" as=\"script\"/><link rel=\"prefetch\" href=\"/assets/vendors~Baggage.7f4730461e1c908e1218.chunk.js\" as=\"script\"/><link rel=\"prefetch\" href=\"/assets/vendors~Positioner.533157cc276731055759.chunk.js\" as=\"script\"/><link rel=\"prefetch\" href=\"/assets/vendors~HLS.5ceb696e60d4818741b1.chunk.js\" as=\"script\"/></head><body><noscript>If you're seeing this message, that means <strong>JavaScript has been disabled on your browser</strong>, please <strong>enable JS</strong> to make this app work.</noscript><div id=\"app\"></div><script>!function(e){function a(a){for(var d,c,t=a[0],r=a[1],b=a[2],l=0,s=[];l<t.length;l++)c=t[l],f[c]&&s.push(f[c][0]),f[c]=0;for(d in r)Object.prototype.hasOwnProperty.call(r,d)&&(e[d]=r[d]);for(i&&i(a);s.length;)s.shift()();return n.push.apply(n,b||[]),o()}function o(){for(var e,a=0;a<n.length;a++){for(var o=n[a],c=!0,t=1;t<o.length;t++){var r=o[t];0!==f[r]&&(c=!1)}c&&(n.splice(a--,1),e=d(d.s=o[0]))}return e}function d(a){if(c[a])return c[a].exports;var o=c[a]={i:a,l:!1,exports:{}};return e[a].call(o.exports,o,o.exports,d),o.l=!0,o.exports}var c={},f={115:0},n=[];d.e=function(e){var a=[],o=f[e];if(0!==o)if(o)a.push(o[2]);else{var c=new Promise(function(a,d){o=f[e]=[a,d]});a.push(o[2]=c);var n,t=document.getElementsByTagName(\"head\")[0],r=document.createElement(\"script\");r.charset=\"utf-8\",r.timeout=120,d.nc&&r.setAttribute(\"nonce\",d.nc),r.src=function(e){return d.p+\"\"+({0:\"Army~MainContent~Nav~UserInfo\",1:\"ForgotPasswordModal~LoginModal~RegisterModal~ResetPasswordModal\",2:\"AsideTVList~Nav~TV~UserInfo\",3:\"FloatingVideo~LiveStreamPreview~TVWall\",4:\"DriveFollowBox~FollowButton17~MainContent\",5:\"locale-data.ja\",6:\"locale-data.ko\",11:\"vendors~DriveFollowBox~Poke\",12:\"vendors~MainContent~UserInfo\",13:\"ForgotPasswordModal~RegisterModal\",14:\"MainContent~Modal\",15:\"Army~Search\",16:\"Gift~Poke\",17:\"Nav~Purchase\",18:\"ShareModal~TV\",19:\"TV~VOD\",20:\"Footer~MaintenancePage\",21:\"ChatRoom~Live\",22:\"BaggageMission~Gift\",23:\"ChatRoom~MobileChatList\",25:\"Scripting\",26:\"NotFoundPage\",27:\"LegacyMobilePage\",28:\"MaintenancePage\",29:\"Army\",30:\"Clip\",31:\"GA-plugins\",32:\"translation.en-US-json\",33:\"translation.ja-json\",34:\"translation.ko-json\",35:\"translation.zh-Hans-json\",36:\"MobileBlock\",37:\"Nav\",38:\"FloatingVideo\",39:\"MainContent\",40:\"Footer\",41:\"Modal\",42:\"Snackbars\",43:\"DevTools\",44:\"Search\",45:\"LiveBadge\",46:\"level-icon\",51:\"Like\",52:\"FollowButton17\",53:\"LiveScores\",54:\"Gift\",55:\"Poke\",56:\"VideoBlocked\",57:\"VideoNotApproved\",58:\"VideoEndedRecommend\",59:\"DriveFollowBox\",60:\"BaggageMission\",61:\"DriveRegisterBox\",62:\"PointHistory\",63:\"BalancesProvider\",64:\"LiveStreamPreview\",65:\"IntersectionObserverPolyfill\",66:\"LiveStreamList\",67:\"FollowingPanel\",68:\"RecommendedPanel\",69:\"Leaderboard\",70:\"EventPanel\",71:\"GamingLiveStreamPanel\",72:\"RegionList\",73:\"CellsList\",74:\"RecommendedList\",75:\"RedeemCode\",76:\"UserInfo\",77:\"Purchase\",78:\"TV\",79:\"FollowButtonWithHint\",80:\"AsideLive\",81:\"ChatRoom\",82:\"Event\",83:\"HistoryLiveStreams\",84:\"AsideTVList\",85:\"LoginModal\",86:\"RegisterModal\",87:\"RegisterOAuthModal\",88:\"ForgotPasswordModal\",89:\"ResetPasswordModal\",90:\"CancelSubscriptionModal\",91:\"BlockModal\",92:\"ShareModal\",94:\"DriveDownloadModal\",95:\"ActionHint\",96:\"Live\",97:\"FLV\",98:\"Baggage\",99:\"Positioner\",100:\"VOD\",101:\"VODInfo\",102:\"TVWall\",103:\"CheckingLevelBadge\",104:\"DisabledPlaceholder\",105:\"ThirdPartyAction\",106:\"MobileLivePlayer\",107:\"MobileChatList\",109:\"vendors~FLV\",110:\"vendors~Army\",111:\"vendors~GA-plugins\",112:\"vendors~Baggage\",113:\"vendors~Positioner\",114:\"vendors~HLS\"}[e]||e)+\".\"+{0:\"dd97912b14d4f8b5c582\",1:\"a27b524b289a4cc9f058\",2:\"c23ffb10b07af229f712\",3:\"2348a10b3eaa9aff7a54\",4:\"a0d728d5bda31cfc3cee\",5:\"5ce6b3d339e671fef461\",6:\"f9f14a4826518bdbe94a\",7:\"527e5fe4f0277848598b\",8:\"2aa3fa577f78ebd12d68\",9:\"d67369849977ef07695f\",10:\"67b664751269d95bc5e8\",11:\"15cc3d47d1ad27c624eb\",12:\"f31869bbf2483ff712b9\",13:\"83e4f0582cfd854a6971\",14:\"6308a780493a593991e0\",15:\"b4f2bf34d14208a5311b\",16:\"174104e4d0bb6af23c8f\",17:\"02aee76a74da25d84dd1\",18:\"fcf3d31e409f831686f8\",19:\"042a374357b831be1ecd\",20:\"3f1d72f18c3401208d63\",21:\"6ca2ac1692057f35c3a5\",22:\"d1b394981c33ede30def\",23:\"175a3dee6b6cb87c638c\",25:\"b2d8de642d4f309fa796\",26:\"945348a84443ce19f11c\",27:\"0061ef498e013d41945c\",28:\"fb6030638cc2be41ae27\",29:\"3a68cae0f8913a75b997\",30:\"f6fa0d23642251cb546b\",31:\"413af9443c8ad8273d8f\",32:\"ddcc39210147bd66784b\",33:\"dd9d4d7272f8e471592c\",34:\"afe3892fc88a9ae13996\",35:\"fa99596266e9ae3bb625\",36:\"e5023ef64a04e8b00cc5\",37:\"b38a0bae1eeb135e73a9\",38:\"b8d92bb5d171e6355fb8\",39:\"1e0a05ba374fc406c653\",40:\"1c973944a8d476a7390c\",41:\"7255db26166f0f2b7c69\",42:\"5902e4de7f604edcdf83\",43:\"bfc335e20bb619cd5ae7\",44:\"65f0daea1feeac44908e\",45:\"a7f4acc591628019b987\",46:\"9638c065910e45740768\",47:\"cc4586d15fc07fc37953\",48:\"d9bba40571afdaf5420c\",49:\"738f536b491087f3f9f5\",50:\"e15117155a125fe44ca4\",51:\"e1ae52a210fe88d3c527\",52:\"517283f998cbb4c11f5b\",53:\"62e32a780d82812f8905\",54:\"69f1c9199a6ca3862060\",55:\"e046df146439400f9932\",56:\"3da55d8327a31e6121c9\",57:\"aed445c1eee46f67621e\",58:\"16d73fe4173e226acef0\",59:\"1eb647bf656a875c363d\",60:\"63ea87896ac457078b3f\",61:\"04baf270186979ef79e3\",62:\"62aadb1e370fba2d09ec\",63:\"82a94f9fd2e357ede95d\",64:\"893cb9dcc3a5d5e178f5\",65:\"9f9004494bfcdef516c4\",66:\"f589d22724557832a767\",67:\"b8fddc3e57ae4a1a8198\",68:\"87b9058b18139e44a43b\",69:\"f4944facbe046decabce\",70:\"120e6cfbcebe729f3f45\",71:\"8cedba7ed234d4569b4d\",72:\"042ac9800231abc95623\",73:\"c9381c3685a864377fa6\",74:\"90008f75c5a3f95655db\",75:\"dd079b365519431addf1\",76:\"121a606665ec6ce71abd\",77:\"f5d2a4c0f680499d4761\",78:\"f360212cdf2d3088338f\",79:\"3ea5b6c04b13db927e46\",80:\"a44c4663c4667913a3a0\",81:\"acc470e24e2566da7294\",82:\"d758bd6a7f3f76304835\",83:\"4c34c8d564bb32cb5dbe\",84:\"002c991301dcceeeeb9f\",85:\"c2c23a1d586e8203e52e\",86:\"f47a438a74f66f94dfa8\",87:\"2c150016c3779a499bb8\",88:\"51440ee7490d68c01a03\",89:\"19a7091e50a159c37c09\",90:\"fe58d2ffd1f2d8fdc64e\",91:\"0e6e506c35b0d63a53ed\",92:\"5c3288b3e7be280b469d\",93:\"38be5b883af25b7f5e94\",94:\"dcd0a35cb0a8169b9b69\",95:\"d0c2df05d50973203785\",96:\"fedc0a67b6e2a8ceb619\",97:\"73056440b91aa370663e\",98:\"b4ffbddae6e66402cc38\",99:\"5ff9bc387007f64cebec\",100:\"66fa93fe838707e3467d\",101:\"87020c9dc650c9c6f44c\",102:\"72fcb0e45c19bdb233f2\",103:\"86f7be16981dbf9b7268\",104:\"b294272da3b2f699a9ed\",105:\"37a5b2f3dadf59b933b0\",106:\"b8aad3228ce1105ce9bc\",107:\"0f9ce93476cfbed410bf\",109:\"ffc9f2ad279221ab3740\",110:\"cf8c48aa99c980e012aa\",111:\"5297ff9e1d26184da181\",112:\"7f4730461e1c908e1218\",113:\"533157cc276731055759\",114:\"5ceb696e60d4818741b1\"}[e]+\".chunk.js\"}(e),n=function(a){r.onerror=r.onload=null,clearTimeout(b);var o=f[e];if(0!==o){if(o){var d=a&&(\"load\"===a.type?\"missing\":a.type),c=a&&a.target&&a.target.src,n=new Error(\"Loading chunk \"+e+\" failed.\\n(\"+d+\": \"+c+\")\");n.type=d,n.request=c,o[1](n)}f[e]=void 0}};var b=setTimeout(function(){n({type:\"timeout\",target:r})},12e4);r.onerror=r.onload=n,t.appendChild(r)}return Promise.all(a)},d.m=e,d.c=c,d.d=function(e,a,o){d.o(e,a)||Object.defineProperty(e,a,{enumerable:!0,get:o})},d.r=function(e){\"undefined\"!=typeof Symbol&&Symbol.toStringTag&&Object.defineProperty(e,Symbol.toStringTag,{value:\"Module\"}),Object.defineProperty(e,\"__esModule\",{value:!0})},d.t=function(e,a){if(1&a&&(e=d(e)),8&a)return e;if(4&a&&\"object\"==typeof e&&e&&e.__esModule)return e;var o=Object.create(null);if(d.r(o),Object.defineProperty(o,\"default\",{enumerable:!0,value:e}),2&a&&\"string\"!=typeof e)for(var c in e)d.d(o,c,function(a){return e[a]}.bind(null,c));return o},d.n=function(e){var a=e&&e.__esModule?function(){return e.default}:function(){return e};return d.d(a,\"a\",a),a},d.o=function(e,a){return Object.prototype.hasOwnProperty.call(e,a)},d.p=\"/assets/\",d.oe=function(e){throw console.error(e),e};var t=window.webpackJsonp=window.webpackJsonp||[],r=t.push.bind(t);t.push=a,t=t.slice();for(var b=0;b<t.length;b++)a(t[b]);var i=r;o()}([])</script><script type=\"text/javascript\" src=\"/assets/vendors~main.deb0d8ebf5c2dd9baaf7.chunk.js\" defer=\"defer\"></script><script type=\"text/javascript\" src=\"/assets/main.77caa571b448de31c76b.chunk.js\" defer=\"defer\"></script></body></html>\n",
      "[]\n",
      "[]\n"
     ]
    }
   ],
   "source": [
    "#coding=utf-8\n",
    "import re #正则表达式模块\n",
    "from urllib import request #通过request对象获取html页面\n",
    "class Spider():\n",
    "    #url = 'https://www.panda.tv/cate/lol'\n",
    "    url = 'https://17.live/live/14645'\n",
    "    root_pattern = '<div class=\"video-info\">([\\s\\S]*?)</div>' #()表示只提取定位标签中间内容\n",
    "    name_pattern = '</i>([\\s\\S]*?)</span>'\n",
    "    number_pattern = '<span class=\"video-number\">([\\s\\S]*?)</span>'\n",
    "    def __fetch_content(self): #私有方法，获取html页面\n",
    "        r = request.urlopen(Spider.url) #在实例方法里读取类变量url\n",
    "        htmls = r.read() #字节码\n",
    "        htmls = str(htmls,encoding = 'utf-8') #将字节码转为字符串\n",
    "        print(htmls)\n",
    "        return htmls\n",
    "    def __analysis(self,htmls):#分析htmls文本，通过正则表达式提取html文本中的主播名和人气值\n",
    "        root_html = re.findall(Spider.root_pattern,htmls)\n",
    "        anchors = []\n",
    "        for html in root_html:\n",
    "            name = re.findall(Spider.name_pattern,html)\n",
    "            number = re.findall(Spider.number_pattern,html)\n",
    "            anchor = {'name':name,'number':number}\n",
    "            anchors.append(anchor)\n",
    "        print(anchors)\n",
    "        return anchors\n",
    "    def __refine(self,anchors): #精炼数据，剔除文本中的空格和换行符等内容，规范成易读的数据\n",
    "        targets = []\n",
    "        for target_list in anchors:\n",
    "            name = target_list['name'][0].strip()\n",
    "            number = target_list['number'][0]\n",
    "            one_people = {'name':name,'number':number}\n",
    "            targets.append(one_people)\n",
    "        print(targets); \n",
    "        return targets\n",
    "    def __sort(self,anchors): #对精炼后的数据按主播人气值进行排序\n",
    "        anchors = sorted(anchors,key = self.__sort_seed,reverse = True)\n",
    "        return anchors\n",
    "    #设置排序规则\n",
    "    def __sort_seed(self,anchor):\n",
    "        r = re.findall('\\d*',anchor['number'])\n",
    "        number = float(r[0])\n",
    "        if  '万' in anchor['number']:\n",
    "            number *= 10000\n",
    "        return number\n",
    "    def __show(self,anchors): #展示最终爬取的数据\n",
    "        for rank in range(0,len(anchors)):\n",
    "            print('rank ' + str(rank+1)\n",
    "            + ':' +anchors[rank]['name'] \n",
    "            + '    ' + anchors[rank]['number'])\n",
    "    def go(self): #公开方法，go方法是Spider的入口方法\n",
    "        htmls = self.__fetch_content()\n",
    "        anchors = self.__analysis(htmls)\n",
    "        anchors = self.__refine(anchors)\n",
    "        anchors = self.__sort(anchors)\n",
    "        self.__show(anchors)\n",
    "spider  = Spider()\n",
    "spider.go()\n",
    "\n"
   ]
  },
  {
   "cell_type": "code",
   "execution_count": null,
   "metadata": {},
   "outputs": [],
   "source": []
  }
 ],
 "metadata": {
  "kernelspec": {
   "display_name": "Python 3",
   "language": "python",
   "name": "python3"
  },
  "language_info": {
   "codemirror_mode": {
    "name": "ipython",
    "version": 3
   },
   "file_extension": ".py",
   "mimetype": "text/x-python",
   "name": "python",
   "nbconvert_exporter": "python",
   "pygments_lexer": "ipython3",
   "version": "3.6.3"
  }
 },
 "nbformat": 4,
 "nbformat_minor": 2
}
